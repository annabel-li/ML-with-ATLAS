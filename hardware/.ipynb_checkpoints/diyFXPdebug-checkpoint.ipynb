{
 "cells": [
  {
   "cell_type": "code",
   "execution_count": 71,
   "id": "4e9ed1a5-0912-4797-a9f6-d7f4c7d46924",
   "metadata": {},
   "outputs": [],
   "source": [
    "import numpy as np\n",
    "\n",
    "num = -15\n",
    "fullb = 18\n",
    "intb = 6 \n",
    "\n",
    "#goal is for ubinstr to be pure - no extraneous zeroes? "
   ]
  },
  {
   "cell_type": "code",
   "execution_count": 72,
   "id": "a933fdf8-13e2-4674-8abb-1920b1f1f48b",
   "metadata": {},
   "outputs": [],
   "source": [
    "def get_frac_bits(\n",
    "    in_float: float, \n",
    "    round_factor: int=8, #number of decimal places to round to. \n",
    "):\n",
    "    decimal_part, int_part = np.modf(in_float)\n",
    "    decimal_part = np.abs(np.round(decimal_part, round_factor))\n",
    "    dec_string = str(decimal_part)[2:] #omit the '0.'\n",
    "\n",
    "    if decimal_part == 0: \n",
    "        frac_bits = 0 \n",
    "    else: \n",
    "        power = len(dec_string) \n",
    "        frac_bits = math.log(10**power, 2) #base 2 log. \n",
    "        frac_bits = int(frac_bits) + 1 #round up \n",
    "\n",
    "    return frac_bits  \n",
    " \n",
    "def get_int_bits(\n",
    "    in_float: float\n",
    "): \n",
    "    int_part = int(in_float)\n",
    "    return len(bin(int_part)) - 2 #get rid of the '0b' prefix \n",
    "\n"
   ]
  },
  {
   "cell_type": "code",
   "execution_count": 73,
   "id": "c33028ab-3e16-4e2c-9dcd-110cb94fac64",
   "metadata": {},
   "outputs": [],
   "source": [
    "def decimal_to_bin(\n",
    "    decimal_float: float, \n",
    "    user_frac_bits: int\n",
    "): \n",
    "\n",
    "    before_decimal = 0 \n",
    "    decimal_str = []\n",
    "    \n",
    "    while(before_decimal != 1 and (len(decimal_str) < user_frac_bits)): \n",
    "\n",
    "        decimal_float = decimal_float * 2 \n",
    "        decimal_float, int_part = np.modf(decimal_float) \n",
    "        decimal_str.append(str(int(int_part)))\n",
    "\n",
    "    decimal_str = \"\".join(decimal_str) \n",
    "\n",
    "    return decimal_str     "
   ]
  },
  {
   "cell_type": "code",
   "execution_count": 74,
   "id": "e14e28b4-5734-4667-8b9e-8a16a069d02a",
   "metadata": {},
   "outputs": [
    {
     "name": "stdout",
     "output_type": "stream",
     "text": [
      "110\n"
     ]
    }
   ],
   "source": [
    "print(decimal_to_bin(0.75, user_frac_bits=3))"
   ]
  },
  {
   "cell_type": "code",
   "execution_count": 69,
   "id": "14af155a-370d-41fb-8270-bd740a7582e2",
   "metadata": {},
   "outputs": [],
   "source": [
    "def float_to_ubin(\n",
    "    in_float: float,\n",
    "    user_tot_bits: int, #user-specified full bit width. \n",
    "    user_int_bits: int, #user-specified int width for ap_fixed conversion. \n",
    "    round_factor: int=8, \n",
    "    round_num: bool=True\n",
    "): \n",
    "\n",
    "    user_frac_bits = user_tot_bits - user_int_bits\n",
    "    \n",
    "    if in_float < 0: #store the sign. \n",
    "        sign = \"-\" \n",
    "    elif in_float > 0: \n",
    "        sign = \"+\" #me being explicit and also consistent \n",
    "    else: \n",
    "        sign = \" \"\n",
    "\n",
    "    in_float = np.abs(in_float) \n",
    "    decimal_part, int_part = np.modf(in_float) \n",
    "    #print(f\"Int: {int_part}, decimal: {decimal_part}\")\n",
    "    \n",
    "    if round_num: \n",
    "    #round the float to the specified decimal place \n",
    "        decimal_part = np.round(decimal_part, round_factor)\n",
    "        #print(decimal_part)\n",
    "        in_float = int_part + decimal_part\n",
    "\n",
    "    #frac_bits = get_frac_bits(in_float) \n",
    "    #print(\"Frac bits:\", frac_bits) \n",
    "    #scaled = int(in_float * (2**user_frac_bits)) \n",
    "    #binary_string = format(scaled, 'b') #formats the scaled number as binary \n",
    "\n",
    "    int_part = bin(int(int_part))[2:].zfill(user_int_bits)\n",
    "    decimal_part = decimal_to_bin(decimal_part, user_frac_bits)\n",
    "\n",
    "    binary_string = int_part + decimal_part\n",
    "\n",
    "    bin_list = [binary_string, sign] #this returns the bin string with extraneous zeros.\n",
    "      \n",
    "    return bin_list "
   ]
  },
  {
   "cell_type": "code",
   "execution_count": 75,
   "id": "84725f4c-d380-48df-8f96-12347b022656",
   "metadata": {},
   "outputs": [
    {
     "name": "stdout",
     "output_type": "stream",
     "text": [
      "Ubin str: 001111000000000000, sign: -\n",
      "18\n"
     ]
    }
   ],
   "source": [
    "bin_list = float_to_ubin(num, user_tot_bits=fullb, user_int_bits=intb)\n",
    "ubin, sign = bin_list\n",
    "print(f\"Ubin str: {ubin}, sign: {sign}\")\n",
    "print(len(ubin))"
   ]
  },
  {
   "cell_type": "code",
   "execution_count": 28,
   "id": "d81e8e13-15d5-4f84-b355-4393e3acc3b9",
   "metadata": {},
   "outputs": [],
   "source": [
    "def invert_bits(\n",
    "    bin_str: str\n",
    "): \n",
    "    \n",
    "    if '.' in bin_str: \n",
    "        bin_str = bin_str.replace('.', \"\")\n",
    "        \n",
    "    bin_str = list(bin_str)\n",
    "    \n",
    "    for i in range(len(bin_str)): \n",
    "        if bin_str[i] == '0':\n",
    "            bin_str[i] = '1' \n",
    "        elif bin_str[i] == '1': \n",
    "            bin_str[i] = '0' \n",
    "        else: \n",
    "            raise ValueError(\"Unrecognized character in binary string.\")\n",
    "            \n",
    "    bin_str = \"\".join(bin_str)\n",
    "    \n",
    "    return bin_str\n",
    "\n",
    "def add_one_to_bin_str(\n",
    "    bin_str: str\n",
    "): \n",
    "\n",
    "    stop_carry = False\n",
    "    length = len(bin_str)  \n",
    "    bin_str = list(bin_str)\n",
    "    \n",
    "    #deal with the easy case first: where the last value is 0. \n",
    "    if bin_str[length - 1] == '0': \n",
    "        bin_str[length - 1] = '1'\n",
    "        return \"\".join(str(bin_str))\n",
    "\n",
    "    else: \n",
    "        \n",
    "        for i in np.flip(np.arange(1, length)):          \n",
    "            if bin_str[i] == '1' and stop_carry == False: \n",
    "                bin_str[i] = '0' \n",
    "\n",
    "                if bin_str[i - 1] == '1':\n",
    "                    bin_str[i - 1] = '0'\n",
    "\n",
    "                else:\n",
    "                    bin_str[i - 1] = '1'\n",
    "                    stop_carry = True #stop carrying over. \n",
    "                    \n",
    "        bin_str = \"\".join(bin_str)\n",
    "        \n",
    "        if stop_carry == False: #once you get to the end... \n",
    "            bin_str = '1' + bin_str #extend by 1. \n",
    "\n",
    "        return bin_str "
   ]
  },
  {
   "cell_type": "code",
   "execution_count": 10,
   "id": "9bf47ef3-fb9e-479d-b6f6-fb08aec23842",
   "metadata": {},
   "outputs": [],
   "source": [
    "def twos_complement(\n",
    "    bin_list: list\n",
    "): \n",
    "    ubin_str, sign = bin_list\n",
    "    nbits = len(ubin_str) + 1\n",
    "\n",
    "    if sign == '+': \n",
    "        sbin_str = '0' + ubin_str\n",
    "\n",
    "    elif sign == '-': \n",
    "        #get the binary string of the positive number -> invert all the bits -> add 1. recall that bin_list[0] is the binary of the unsigned number. \n",
    "        inverted = invert_bits(ubin_str)\n",
    "        print(\"Inverted: \", inverted)\n",
    "        added_one = add_one_to_bin_str(inverted)\n",
    "        sbin_str = added_one\n",
    "\n",
    "    else: \n",
    "        sbin_str = ubin_str #cuz it's just all zeros. \n",
    "\n",
    "    return sbin_str"
   ]
  },
  {
   "cell_type": "code",
   "execution_count": 33,
   "id": "187250c4-84ed-4531-82e1-f6e5549b70ec",
   "metadata": {},
   "outputs": [
    {
     "name": "stdout",
     "output_type": "stream",
     "text": [
      "Inverted:  0000111111111111\n",
      "Length:  16\n",
      "Add one:  10000000000000000\n",
      "Length:  17\n"
     ]
    }
   ],
   "source": [
    "inverted = invert_bits(ubin)\n",
    "print(\"Inverted: \", inverted)\n",
    "print(\"Length: \", len(inverted))\n",
    "print(\"Add one: \", add_one_to_bin_str(inverted))\n",
    "print(\"Length: \", len(add_one_to_bin_str(inverted)))"
   ]
  },
  {
   "cell_type": "code",
   "execution_count": null,
   "id": "4b271f2f-90da-4a47-bd17-ae6eed576abd",
   "metadata": {},
   "outputs": [],
   "source": []
  }
 ],
 "metadata": {
  "kernelspec": {
   "display_name": "Python 3 (ipykernel)",
   "language": "python",
   "name": "python3"
  },
  "language_info": {
   "codemirror_mode": {
    "name": "ipython",
    "version": 3
   },
   "file_extension": ".py",
   "mimetype": "text/x-python",
   "name": "python",
   "nbconvert_exporter": "python",
   "pygments_lexer": "ipython3",
   "version": "3.13.2"
  }
 },
 "nbformat": 4,
 "nbformat_minor": 5
}

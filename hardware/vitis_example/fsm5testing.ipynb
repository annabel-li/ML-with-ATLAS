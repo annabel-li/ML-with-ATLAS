{
 "cells": [
  {
   "cell_type": "code",
   "execution_count": 7,
   "id": "b2e95e8b",
   "metadata": {},
   "outputs": [],
   "source": [
    "#global variables \n",
    "\n",
    "NUM_LAYERS =  2\n",
    "ROWS0, COLS0 = 32, 4\n",
    "ROWS1, COLS1 = 32, 32\n",
    "\n",
    "FIFO_DEPTH = 12 #aka number of vectors \n",
    "NUM_FEATURES = COLS0\n",
    "\n",
    "rowsize = [ROWS0, ROWS1]\n",
    "colsize = [COLS0, COLS1]\n",
    "MAX_ROWS = max(rowsize)\n",
    "MAX_COLS = max(colsize)\n",
    "MAX_NODES = MAX_ROWS\n",
    "LAST_ROW = rowsize[-1]"
   ]
  },
  {
   "cell_type": "code",
   "execution_count": 8,
   "id": "6b36bec8",
   "metadata": {},
   "outputs": [],
   "source": [
    "from pynq import Overlay, allocate, PL\n",
    "import numpy as np\n",
    "import time\n",
    "\n",
    "#PL.reset()\n",
    "ol = Overlay(\"design_5.bit\")\n",
    "ip = ol.algo_main_0"
   ]
  },
  {
   "cell_type": "code",
   "execution_count": 9,
   "id": "bd0862d0",
   "metadata": {},
   "outputs": [
    {
     "data": {
      "text/plain": [
       "RegisterMap {\n",
       "  CTRL = Register(AP_START=0, AP_DONE=0, AP_IDLE=1, AP_READY=0, RESERVED_1=0, AUTO_RESTART=0, RESERVED_2=0, INTERRUPT=0, RESERVED_3=0),\n",
       "  GIER = Register(Enable=0, RESERVED=0),\n",
       "  IP_IER = Register(CHAN0_INT_EN=0, CHAN1_INT_EN=0, RESERVED_0=0),\n",
       "  IP_ISR = Register(CHAN0_INT_ST=0, CHAN1_INT_ST=0, RESERVED_0=0),\n",
       "  input_data_1 = Register(input_data=write-only),\n",
       "  input_data_2 = Register(input_data=write-only),\n",
       "  user_control = Register(user_control=write-only, RESERVED=write-only),\n",
       "  layer_num = Register(layer_num=write-only, RESERVED=write-only),\n",
       "  weight_rows = Register(weight_rows=write-only, RESERVED=write-only),\n",
       "  weight_cols = Register(weight_cols=write-only, RESERVED=write-only),\n",
       "  busy = Register(busy=0, RESERVED=0),\n",
       "  busy_ctrl = Register(busy_ap_vld=0, RESERVED=0),\n",
       "  read_row = Register(read_row=write-only, RESERVED=write-only),\n",
       "  read_col = Register(read_col=write-only, RESERVED=write-only),\n",
       "  read_data = Register(read_data=0, RESERVED=0),\n",
       "  read_data_ctrl = Register(read_data_ap_vld=0, RESERVED=0),\n",
       "  nstates_visited_out = Register(nstates_visited_out=0, RESERVED=0),\n",
       "  nstates_visited_out_ctrl = Register(nstates_visited_out_ap_vld=0, RESERVED=0),\n",
       "  state_out = Register(state_out=0, RESERVED=0),\n",
       "  state_out_ctrl = Register(state_out_ap_vld=0, RESERVED=0),\n",
       "  done = Register(done=0, RESERVED=0),\n",
       "  done_ctrl = Register(done_ap_vld=0, RESERVED=0)\n",
       "}"
      ]
     },
     "execution_count": 9,
     "metadata": {},
     "output_type": "execute_result"
    }
   ],
   "source": [
    "ip.register_map"
   ]
  },
  {
   "cell_type": "code",
   "execution_count": 10,
   "id": "7085d30b",
   "metadata": {},
   "outputs": [
    {
     "name": "stdout",
     "output_type": "stream",
     "text": [
      "Weights tensor:  [  0  -1  -2  -3   1   2   3   4  -2  -3  -4  -5   3   4   5   6  -4  -5\n",
      "  -6  -7   5   6   7   8  -6  -7  -8  -9   7   8   9  10  -8  -9 -10 -11\n",
      "   9  10  11  12 -10 -11 -12 -13  11  12  13  14 -12 -13 -14 -15  13  14\n",
      "  15  16 -14 -15 -16 -17  15  16  17  18 -16 -17 -18 -19  17  18  19  20\n",
      " -18 -19 -20 -21  19  20  21  22 -20 -21 -22 -23  21  22  23  24 -22 -23\n",
      " -24 -25  23  24  25  26 -24 -25 -26 -27  25  26  27  28 -26 -27 -28 -29\n",
      "  27  28  29  30 -28 -29 -30 -31  29  30  31  32 -30 -31 -32 -33  31  32\n",
      "  33  34]\n"
     ]
    }
   ],
   "source": [
    "# Allocate contiguous memory for matrix data\n",
    "w1 = allocate(shape=(ROWS0 * COLS0,), dtype=np.int32) #ensure dtype is consistent with the Vitis data.h \n",
    "\n",
    "for row in range(ROWS0):\n",
    "    for col in range(COLS0):\n",
    "        w1[row * COLS0 + col] = (row + col)*(2*(row%2)-1) \n",
    "        \n",
    "w1.flush() \n",
    "\n",
    "# Write matrix base address to the IP (split into two 32-bit words)\n",
    "ip.register_map.input_data_1 = w1.device_address & 0xFFFFFFFF\n",
    "ip.register_map.input_data_2 = (w1.device_address >> 32) & 0xFFFFFFFF \n",
    "\n",
    "print(\"Weights tensor: \", w1)"
   ]
  },
  {
   "cell_type": "code",
   "execution_count": 11,
   "id": "95cede1e",
   "metadata": {},
   "outputs": [
    {
     "name": "stdout",
     "output_type": "stream",
     "text": [
      "CTRL.AP_DONE = 0\n",
      "CTRL.AP_IDLE = 1\n",
      "CTRL.AP_START = 0\n",
      "CTRL.AP_DONE = 1\n",
      "CTRL.AP_IDLE = 1\n",
      "CTRL.AP_START = 0\n",
      "nstates_visited 0x3\n",
      "busy = 0x0\n"
     ]
    }
   ],
   "source": [
    "#run LOAD_MATRIX - these are your \"weights\"\n",
    "print(\"CTRL.AP_DONE =\", ip.register_map.CTRL.AP_DONE)\n",
    "print(\"CTRL.AP_IDLE =\", ip.register_map.CTRL.AP_IDLE)\n",
    "print(\"CTRL.AP_START =\", ip.register_map.CTRL.AP_START)\n",
    "\n",
    "# Trigger BRAM load\n",
    "ip.register_map.user_control = 1\n",
    "ip.register_map.layer_num = 0 \n",
    "ip.register_map.weight_rows = ROWS0\n",
    "ip.register_map.weight_cols = COLS0\n",
    "\n",
    "ip.register_map.CTRL.AP_START = 0\n",
    "ip.register_map.CTRL.AP_START = 1\n",
    "\n",
    "print(\"CTRL.AP_DONE =\", ip.register_map.CTRL.AP_DONE)\n",
    "print(\"CTRL.AP_IDLE =\", ip.register_map.CTRL.AP_IDLE)\n",
    "print(\"CTRL.AP_START =\", ip.register_map.CTRL.AP_START)\n",
    "print(\"nstates_visited\", ip.register_map.nstates_visited_out)\n",
    "print(\"busy =\", ip.register_map.busy)"
   ]
  },
  {
   "cell_type": "code",
   "execution_count": 12,
   "id": "134f0c0e",
   "metadata": {},
   "outputs": [
    {
     "name": "stdout",
     "output_type": "stream",
     "text": [
      "Weights tensor:  [ 0 -1 -2 ... 60 61 62]\n"
     ]
    }
   ],
   "source": [
    "# Allocate contiguous memory for matrix data\n",
    "w2 = allocate(shape=(ROWS1 * COLS1,), dtype=np.int32) \n",
    "\n",
    "for row in range(ROWS1):\n",
    "    for col in range(COLS1):\n",
    "        w2[row * COLS1 + col] = (row + col)*(2*(row%2)-1) \n",
    "        \n",
    "w2.flush() \n",
    "\n",
    "# Write matrix base address to the IP (split into two 32-bit words)\n",
    "ip.register_map.input_data_1 = w2.device_address & 0xFFFFFFFF\n",
    "ip.register_map.input_data_2 = (w2.device_address >> 32) & 0xFFFFFFFF \n",
    "\n",
    "print(\"Weights tensor: \", w2)"
   ]
  },
  {
   "cell_type": "code",
   "execution_count": 13,
   "id": "0e2ecfb9",
   "metadata": {},
   "outputs": [
    {
     "name": "stdout",
     "output_type": "stream",
     "text": [
      "CTRL.AP_DONE = 0\n",
      "CTRL.AP_IDLE = 1\n",
      "CTRL.AP_START = 0\n",
      "CTRL.AP_DONE = 1\n",
      "CTRL.AP_IDLE = 1\n",
      "CTRL.AP_START = 0\n",
      "nstates_visited 0x6\n",
      "busy = 0x0\n"
     ]
    }
   ],
   "source": [
    "#run LOAD_MATRIX - these are your \"weights\"\n",
    "print(\"CTRL.AP_DONE =\", ip.register_map.CTRL.AP_DONE)\n",
    "print(\"CTRL.AP_IDLE =\", ip.register_map.CTRL.AP_IDLE)\n",
    "print(\"CTRL.AP_START =\", ip.register_map.CTRL.AP_START)\n",
    "\n",
    "# Trigger BRAM load\n",
    "ip.register_map.user_control = 1\n",
    "ip.register_map.layer_num = 1 \n",
    "ip.register_map.weight_rows = ROWS1\n",
    "ip.register_map.weight_cols = COLS1\n",
    "\n",
    "ip.register_map.CTRL.AP_START = 0\n",
    "ip.register_map.CTRL.AP_START = 1\n",
    "\n",
    "print(\"CTRL.AP_DONE =\", ip.register_map.CTRL.AP_DONE)\n",
    "print(\"CTRL.AP_IDLE =\", ip.register_map.CTRL.AP_IDLE)\n",
    "print(\"CTRL.AP_START =\", ip.register_map.CTRL.AP_START)\n",
    "print(\"nstates_visited\", ip.register_map.nstates_visited_out)\n",
    "print(\"busy =\", ip.register_map.busy)"
   ]
  },
  {
   "cell_type": "code",
   "execution_count": 14,
   "id": "1276ffd7",
   "metadata": {},
   "outputs": [
    {
     "name": "stdout",
     "output_type": "stream",
     "text": [
      "Read WEIGHTS[0][12][1] = 0xfffffff3 (expected -13)\n",
      "Read WEIGHTS[1][12][1] = 0xfffffff3 (expected -13)\n"
     ]
    }
   ],
   "source": [
    "#read weights matrices \n",
    "\n",
    "row = 12\n",
    "col = 1\n",
    "\n",
    "for i in range(NUM_LAYERS): \n",
    "    \n",
    "    ip.register_map.layer_num = i\n",
    "    ip.register_map.read_row = row\n",
    "    ip.register_map.read_col = col\n",
    "    \n",
    "    ip.register_map.user_control = 5\n",
    "    ip.register_map.CTRL.AP_START = 1\n",
    "    \n",
    "    value = ip.register_map.read_data\n",
    "    expected = (row + col)*(2*(row%2)-1) \n",
    "\n",
    "    print(f\"Read WEIGHTS[{i}][{row}][{col}] = {value} (expected {expected})\")\n",
    "\n",
    "    ip.register_map.CTRL.AP_START = 0"
   ]
  },
  {
   "cell_type": "code",
   "execution_count": 15,
   "id": "328817cf",
   "metadata": {},
   "outputs": [
    {
     "name": "stdout",
     "output_type": "stream",
     "text": [
      "Fifo of input vectors:  [  0  -1  -2  -3   1   2   3   4  -2  -3  -4  -5   3   4   5   6  -4  -5\n",
      "  -6  -7   5   6   7   8  -6  -7  -8  -9   7   8   9  10  -8  -9 -10 -11\n",
      "   9  10  11  12 -10 -11 -12 -13  11  12  13  14]\n"
     ]
    }
   ],
   "source": [
    "#Then using the same \"input_data\" pointer, create a new tensor holding 'input vectors' for your fifo:\n",
    "inputs = allocate(shape=(FIFO_DEPTH * NUM_FEATURES,), dtype=np.int32)\n",
    "\n",
    "#Fill with test pattern\n",
    "for row in range(FIFO_DEPTH): \n",
    "    for col in range(NUM_FEATURES): \n",
    "        inputs[row * NUM_FEATURES + col] =(row + col)*(2*(row%2)-1) \n",
    "\n",
    "inputs.flush()\n",
    "\n",
    "#Write matrix base address to the IP (split into two 32-bit words)\n",
    "ip.register_map.input_data_1 = inputs.device_address & 0xFFFFFFFF \n",
    "ip.register_map.input_data_2 = (inputs.device_address >> 32) & 0xFFFFFFFF\n",
    "\n",
    "print(\"Fifo of input vectors: \", inputs)"
   ]
  },
  {
   "cell_type": "code",
   "execution_count": 16,
   "id": "13c136a2",
   "metadata": {},
   "outputs": [
    {
     "name": "stdout",
     "output_type": "stream",
     "text": [
      "CTRL.AP_DONE = 0\n",
      "CTRL.AP_IDLE = 1\n",
      "CTRL.AP_START = 0\n",
      "CTRL.AP_DONE = 1\n",
      "CTRL.AP_IDLE = 1\n",
      "CTRL.AP_START = 0\n",
      "nstates_visited 0xf\n",
      "busy = 0x0\n"
     ]
    }
   ],
   "source": [
    "#run LOAD_FIFO - these are your input vectors\n",
    "\n",
    "print(\"CTRL.AP_DONE =\", ip.register_map.CTRL.AP_DONE)\n",
    "print(\"CTRL.AP_IDLE =\", ip.register_map.CTRL.AP_IDLE)\n",
    "print(\"CTRL.AP_START =\", ip.register_map.CTRL.AP_START)\n",
    "\n",
    "# Trigger BRAM load\n",
    "ip.register_map.user_control = 2\n",
    "ip.register_map.CTRL.AP_START = 0\n",
    "ip.register_map.CTRL.AP_START = 1\n",
    "\n",
    "print(\"CTRL.AP_DONE =\", ip.register_map.CTRL.AP_DONE)\n",
    "print(\"CTRL.AP_IDLE =\", ip.register_map.CTRL.AP_IDLE)\n",
    "print(\"CTRL.AP_START =\", ip.register_map.CTRL.AP_START)\n",
    "print(\"nstates_visited\", ip.register_map.nstates_visited_out)\n",
    "print(\"busy =\", ip.register_map.busy)"
   ]
  },
  {
   "cell_type": "code",
   "execution_count": 17,
   "id": "6eee0af1",
   "metadata": {},
   "outputs": [
    {
     "name": "stdout",
     "output_type": "stream",
     "text": [
      "CTRL.AP_DONE = 1\n",
      "done_ctrl.done_ap_vld = 1\n",
      "Read VEC_STORAGE[2][2] = 0xfffffffc (expected -4)\n"
     ]
    }
   ],
   "source": [
    "#verify that the fifo was loaded correctly \n",
    "#first and second row loads as expected\n",
    "#actually I think the whole thing loads as expected. \n",
    "\n",
    "row = 2\n",
    "col = 2\n",
    "\n",
    "ip.register_map.read_row = row\n",
    "ip.register_map.read_col = col\n",
    "ip.register_map.user_control = 6\n",
    "ip.register_map.CTRL.AP_START = 1\n",
    "\n",
    "print(\"CTRL.AP_DONE =\", ip.register_map.CTRL.AP_DONE)\n",
    "print(\"done_ctrl.done_ap_vld =\", ip.register_map.done_ctrl.done_ap_vld)\n",
    "\n",
    "value = ip.register_map.read_data\n",
    "expected = (row + col)*(2*(row%2)-1)\n",
    "print(f\"Read VEC_STORAGE[{row}][{col}] = {value} (expected {expected})\")\n",
    "\n",
    "ip.register_map.CTRL.AP_START = 0  # Clear start for next cycle"
   ]
  },
  {
   "cell_type": "code",
   "execution_count": 18,
   "id": "e69b495c",
   "metadata": {},
   "outputs": [
    {
     "name": "stdout",
     "output_type": "stream",
     "text": [
      "Bias tensor:  [  0  -1  -2  -3  -4  -5  -6  -7  -8  -9 -10 -11 -12 -13 -14 -15 -16 -17\n",
      " -18 -19 -20 -21 -22 -23 -24 -25 -26 -27 -28 -29 -30 -31   1   2   3   4\n",
      "   5   6   7   8   9  10  11  12  13  14  15  16  17  18  19  20  21  22\n",
      "  23  24  25  26  27  28  29  30  31  32]\n"
     ]
    }
   ],
   "source": [
    "#Then using the same \"input_data\" pointer, create a new tensor holding the biases. \n",
    "biases = allocate(shape=(MAX_NODES * NUM_LAYERS,), dtype=np.int32)\n",
    "\n",
    "#Fill with test pattern\n",
    "for row in range(NUM_LAYERS): \n",
    "    for col in range(MAX_NODES): \n",
    "        biases[row * MAX_NODES + col] =(row + col)*(2*(row%2)-1) \n",
    "\n",
    "biases.flush()\n",
    "\n",
    "#Write matrix base address to the IP (split into two 32-bit words)\n",
    "ip.register_map.input_data_1 = biases.device_address & 0xFFFFFFFF \n",
    "ip.register_map.input_data_2 = (biases.device_address >> 32) & 0xFFFFFFFF\n",
    "\n",
    "print(\"Bias tensor: \", biases)"
   ]
  },
  {
   "cell_type": "code",
   "execution_count": 19,
   "id": "f92096bc",
   "metadata": {},
   "outputs": [
    {
     "name": "stdout",
     "output_type": "stream",
     "text": [
      "CTRL.AP_DONE = 0\n",
      "CTRL.AP_IDLE = 1\n",
      "CTRL.AP_START = 0\n",
      "CTRL.AP_DONE = 1\n",
      "CTRL.AP_IDLE = 1\n",
      "CTRL.AP_START = 0\n",
      "nstates_visited 0x18\n",
      "busy = 0x0\n"
     ]
    }
   ],
   "source": [
    "#run LOAD_BIAS \n",
    "\n",
    "print(\"CTRL.AP_DONE =\", ip.register_map.CTRL.AP_DONE)\n",
    "print(\"CTRL.AP_IDLE =\", ip.register_map.CTRL.AP_IDLE)\n",
    "print(\"CTRL.AP_START =\", ip.register_map.CTRL.AP_START)\n",
    "\n",
    "# Trigger BRAM load\n",
    "for i in range(NUM_LAYERS): \n",
    "    \n",
    "    ip.register_map.user_control = 3\n",
    "    ip.register_map.layer_num = i \n",
    "    ip.register_map.weight_rows = rowsize[i] \n",
    "    ip.register_map.CTRL.AP_START = 0\n",
    "    ip.register_map.CTRL.AP_START = 1\n",
    "    \n",
    "\n",
    "print(\"CTRL.AP_DONE =\", ip.register_map.CTRL.AP_DONE)\n",
    "print(\"CTRL.AP_IDLE =\", ip.register_map.CTRL.AP_IDLE)\n",
    "print(\"CTRL.AP_START =\", ip.register_map.CTRL.AP_START)\n",
    "print(\"nstates_visited\", ip.register_map.nstates_visited_out)\n",
    "print(\"busy =\", ip.register_map.busy)"
   ]
  },
  {
   "cell_type": "code",
   "execution_count": 20,
   "id": "f1234fcd",
   "metadata": {},
   "outputs": [
    {
     "name": "stdout",
     "output_type": "stream",
     "text": [
      "CTRL.AP_DONE = 1\n",
      "done_ctrl.done_ap_vld = 1\n",
      "Read BIASES[0][10] = 0xfffffff6 (expected -10)\n"
     ]
    }
   ],
   "source": [
    "#verify that the biases were loaded correctly \n",
    "\n",
    "row = 0\n",
    "col = 10\n",
    "\n",
    "ip.register_map.read_row = row\n",
    "ip.register_map.read_col = col\n",
    "ip.register_map.user_control = 7\n",
    "ip.register_map.CTRL.AP_START = 1\n",
    "\n",
    "print(\"CTRL.AP_DONE =\", ip.register_map.CTRL.AP_DONE)\n",
    "print(\"done_ctrl.done_ap_vld =\", ip.register_map.done_ctrl.done_ap_vld)\n",
    "\n",
    "value = ip.register_map.read_data\n",
    "expected = (row + col)*(2*(row%2)-1)\n",
    "\n",
    "print(f\"Read BIASES[{row}][{col}] = {value} (expected {expected})\")\n",
    "\n",
    "ip.register_map.CTRL.AP_START = 0  # Clear start for next cycle"
   ]
  },
  {
   "cell_type": "code",
   "execution_count": 21,
   "id": "39355647",
   "metadata": {},
   "outputs": [
    {
     "name": "stdout",
     "output_type": "stream",
     "text": [
      "Total number of states visited so far:  0x1e\n",
      "CTRL.AP_DONE = 1\n",
      "CTRL.AP_IDLE = 1\n",
      "CTRL.AP_START = 0\n"
     ]
    }
   ],
   "source": [
    "#Run the COMPUTE stage (this has been edited to compute and store all the matmul results in one run.) \n",
    "\n",
    "ip.register_map.user_control = 4\n",
    "ip.register_map.CTRL.AP_START = 0\n",
    "ip.register_map.CTRL.AP_START = 1\n",
    "\n",
    "          \n",
    "print(\"Total number of states visited so far: \", ip.register_map.nstates_visited_out)\n",
    "print(\"CTRL.AP_DONE =\", ip.register_map.CTRL.AP_DONE)\n",
    "print(\"CTRL.AP_IDLE =\", ip.register_map.CTRL.AP_IDLE)\n",
    "print(\"CTRL.AP_START =\", ip.register_map.CTRL.AP_START)"
   ]
  },
  {
   "cell_type": "code",
   "execution_count": 22,
   "id": "79e1a94c",
   "metadata": {},
   "outputs": [
    {
     "name": "stdout",
     "output_type": "stream",
     "text": [
      "Results for vector 0:\n",
      "0x0\n",
      "0x7392\n",
      "0x0\n",
      "0x7eb4\n",
      "0x0\n",
      "0x89d6\n",
      "0x0\n",
      "0x94f8\n",
      "0x0\n",
      "0xa01a\n",
      "0x0\n",
      "0xab3c\n",
      "0x0\n",
      "0xb65e\n",
      "0x0\n",
      "0xc180\n",
      "0x0\n",
      "0xcca2\n",
      "0x0\n",
      "0xd7c4\n",
      "0x0\n",
      "0xe2e6\n",
      "0x0\n",
      "0xee08\n",
      "0x0\n",
      "0xf92a\n",
      "0x0\n",
      "0x1044c\n",
      "0x0\n",
      "0x10f6e\n",
      "0x0\n",
      "0x11a90\n",
      "\n",
      "Total number of states visited so far:  0x7e\n",
      "-------\n",
      "\n"
     ]
    }
   ],
   "source": [
    "#check the results for vector 1 only. \n",
    "\n",
    "vec=0 \n",
    "    \n",
    "print(f\"Results for vector {vec}:\")\n",
    "\n",
    "for idx in range(LAST_ROW): \n",
    "\n",
    "    ip.register_map.read_col = idx\n",
    "    ip.register_map.read_row = vec\n",
    "    ip.register_map.user_control = 8\n",
    "    ip.register_map.CTRL.AP_START = 1 \n",
    "\n",
    "    print(ip.register_map.read_data)\n",
    "    ip.register_map.CTRL.AP_START = 0\n",
    "\n",
    "print(\"\\nTotal number of states visited so far: \", ip.register_map.nstates_visited_out)\n",
    "print(\"-------\\n\")"
   ]
  },
  {
   "cell_type": "code",
   "execution_count": null,
   "id": "ad85e8d1",
   "metadata": {},
   "outputs": [],
   "source": [
    "for vec in range(FIFO_DEPTH): \n",
    "    \n",
    "    print(f\"Results for vector {vec}:\", end=\" \")\n",
    "    \n",
    "    for idx in range(LAST_ROW): \n",
    "\n",
    "        ip.register_map.read_col = idx\n",
    "        ip.register_map.read_row = vec\n",
    "        ip.register_map.user_control = 8\n",
    "        ip.register_map.CTRL.AP_START = 1 \n",
    "        \n",
    "        print(ip.register_map.read_data, end=\" \")\n",
    "        ip.register_map.CTRL.AP_START = 0\n",
    "\n",
    "    print(\"\\nTotal number of states visited so far: \", ip.register_map.nstates_visited_out)\n",
    "    print(\"-------\\n\")"
   ]
  },
  {
   "cell_type": "code",
   "execution_count": null,
   "id": "33d8c48b",
   "metadata": {},
   "outputs": [],
   "source": []
  }
 ],
 "metadata": {
  "kernelspec": {
   "display_name": "Python 3 (ipykernel)",
   "language": "python",
   "name": "python3"
  },
  "language_info": {
   "codemirror_mode": {
    "name": "ipython",
    "version": 3
   },
   "file_extension": ".py",
   "mimetype": "text/x-python",
   "name": "python",
   "nbconvert_exporter": "python",
   "pygments_lexer": "ipython3",
   "version": "3.10.4"
  }
 },
 "nbformat": 4,
 "nbformat_minor": 5
}
